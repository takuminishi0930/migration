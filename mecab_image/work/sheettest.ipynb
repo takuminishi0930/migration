{
 "cells": [
  {
   "cell_type": "code",
   "execution_count": 9,
   "id": "4e698d0d",
   "metadata": {},
   "outputs": [
    {
     "data": {
      "text/plain": [
       "{'spreadsheetId': '1YEBZnRMQMSUbIYuPFN0KeVJq8Xvs-cgrLlLz7OmRBfw',\n",
       " 'updatedRange': \"'シート1'!E1:G3\",\n",
       " 'updatedRows': 3,\n",
       " 'updatedColumns': 3,\n",
       " 'updatedCells': 9}"
      ]
     },
     "execution_count": 9,
     "metadata": {},
     "output_type": "execute_result"
    }
   ],
   "source": [
    "import gspread\n",
    "import json\n",
    "from oauth2client.service_account import ServiceAccountCredentials\n",
    "\n",
    "# (1) Google Spread Sheetsにアクセス\n",
    "def connect_gspread(jsonf,key):\n",
    "    scope = ['https://spreadsheets.google.com/feeds','https://www.googleapis.com/auth/drive']\n",
    "    credentials = ServiceAccountCredentials.from_json_keyfile_name(jsonf, scope)\n",
    "    gc = gspread.authorize(credentials)\n",
    "    SPREADSHEET_KEY = key\n",
    "    worksheet = gc.open_by_key(SPREADSHEET_KEY).sheet1\n",
    "    return worksheet\n",
    "\n",
    "# ここでjsonfile名と2-2で用意したkeyを入力\n",
    "jsonf = \"test-314711-49ce03b4e35b.json\"\n",
    "spread_sheet_key = \"1YEBZnRMQMSUbIYuPFN0KeVJq8Xvs-cgrLlLz7OmRBfw\"\n",
    "ws = connect_gspread(jsonf,spread_sheet_key)\n",
    "\n",
    "#(2) Google Spread Sheets上の値を更新\n",
    "#(２−１)あるセルの値を更新（行と列を指定）\n",
    "ws.update_cell(1,1,\"test1\")\n",
    "ws.update_cell(2,1,1)\n",
    "ws.update_cell(3,1,2)\n",
    "\n",
    "#(２−２)あるセルの値を更新（ラベルを指定）\n",
    "ws.update_acell('C1','test2')\n",
    "ws.update_acell('C2',1)\n",
    "ws.update_acell('C3',2)\n",
    "\n",
    "#(2-3)ある範囲のセルの値を更新\n",
    "ds= ws.range('E1:G3')\n",
    "ds[0].value = 1\n",
    "ds[1].value = 2\n",
    "ds[2].value = 3\n",
    "ds[3].value = 4\n",
    "ds[4].value = 5\n",
    "ds[5].value = 6\n",
    "ds[6].value = 7\n",
    "ds[7].value = 8\n",
    "ds[8].value = 9\n",
    "ws.update_cells(ds)\n"
   ]
  },
  {
   "cell_type": "code",
   "execution_count": 12,
   "id": "66ae0967",
   "metadata": {},
   "outputs": [],
   "source": [
    "import pandas as pd"
   ]
  },
  {
   "cell_type": "code",
   "execution_count": 30,
   "id": "ea510dee",
   "metadata": {},
   "outputs": [],
   "source": [
    "df= pd.DataFrame(\n",
    "    data=[[1,2],[\"インターンの頑張り方が分からん^_^\",\"https://Twitter.com/ppi____17/status/1395022997254070273\"],[\"そろそろインターンとかシュ…活しないとね、まずいよね、わかっとる\",\"https://Twitter.com/i___iiiiiiii/status/1395017434239705088\"]],\n",
    "    columns=[\"テキスト\",\"URL\"]\n",
    "    )"
   ]
  },
  {
   "cell_type": "code",
   "execution_count": 31,
   "id": "42c2b112",
   "metadata": {},
   "outputs": [
    {
     "data": {
      "text/html": [
       "<div>\n",
       "<style scoped>\n",
       "    .dataframe tbody tr th:only-of-type {\n",
       "        vertical-align: middle;\n",
       "    }\n",
       "\n",
       "    .dataframe tbody tr th {\n",
       "        vertical-align: top;\n",
       "    }\n",
       "\n",
       "    .dataframe thead th {\n",
       "        text-align: right;\n",
       "    }\n",
       "</style>\n",
       "<table border=\"1\" class=\"dataframe\">\n",
       "  <thead>\n",
       "    <tr style=\"text-align: right;\">\n",
       "      <th></th>\n",
       "      <th>テキスト</th>\n",
       "      <th>URL</th>\n",
       "    </tr>\n",
       "  </thead>\n",
       "  <tbody>\n",
       "    <tr>\n",
       "      <th>0</th>\n",
       "      <td>1</td>\n",
       "      <td>2</td>\n",
       "    </tr>\n",
       "    <tr>\n",
       "      <th>1</th>\n",
       "      <td>インターンの頑張り方が分からん^_^</td>\n",
       "      <td>https://Twitter.com/ppi____17/status/139502299...</td>\n",
       "    </tr>\n",
       "    <tr>\n",
       "      <th>2</th>\n",
       "      <td>そろそろインターンとかシュ…活しないとね、まずいよね、わかっとる</td>\n",
       "      <td>https://Twitter.com/i___iiiiiiii/status/139501...</td>\n",
       "    </tr>\n",
       "  </tbody>\n",
       "</table>\n",
       "</div>"
      ],
      "text/plain": [
       "                               テキスト  \\\n",
       "0                                 1   \n",
       "1                インターンの頑張り方が分からん^_^   \n",
       "2  そろそろインターンとかシュ…活しないとね、まずいよね、わかっとる   \n",
       "\n",
       "                                                 URL  \n",
       "0                                                  2  \n",
       "1  https://Twitter.com/ppi____17/status/139502299...  \n",
       "2  https://Twitter.com/i___iiiiiiii/status/139501...  "
      ]
     },
     "execution_count": 31,
     "metadata": {},
     "output_type": "execute_result"
    }
   ],
   "source": [
    "df"
   ]
  },
  {
   "cell_type": "code",
   "execution_count": 26,
   "id": "9826f4de",
   "metadata": {},
   "outputs": [
    {
     "data": {
      "text/plain": [
       "{'spreadsheetId': '1YEBZnRMQMSUbIYuPFN0KeVJq8Xvs-cgrLlLz7OmRBfw',\n",
       " 'updatedRange': \"'シート1'!A1:B2\",\n",
       " 'updatedRows': 2,\n",
       " 'updatedColumns': 2,\n",
       " 'updatedCells': 4}"
      ]
     },
     "execution_count": 26,
     "metadata": {},
     "output_type": "execute_result"
    }
   ],
   "source": [
    "ds= ws.range('A1:B2')\n",
    "ds[0].value = df[\"テキスト\"][0]\n",
    "ds[1].value = df[\"URL\"][0]\n",
    "ds[2].value = df[\"テキスト\"][1]\n",
    "ds[3].value = df[\"URL\"][1]\n",
    "ds[4].value = df[\"テキスト\"][2]\n",
    "ds[5].value = df[\"URL\"][2]\n",
    "ws.update_cells(ds)"
   ]
  },
  {
   "cell_type": "code",
   "execution_count": 32,
   "id": "0508a9b4",
   "metadata": {},
   "outputs": [
    {
     "data": {
      "text/plain": [
       "{'spreadsheetId': '1YEBZnRMQMSUbIYuPFN0KeVJq8Xvs-cgrLlLz7OmRBfw',\n",
       " 'updatedRange': \"'シート1'!A1:B3\",\n",
       " 'updatedRows': 3,\n",
       " 'updatedColumns': 2,\n",
       " 'updatedCells': 6}"
      ]
     },
     "execution_count": 32,
     "metadata": {},
     "output_type": "execute_result"
    }
   ],
   "source": [
    "ds= ws.range(\"A1:B{}\".format(len(df)))\n",
    "for i in range(len(df)):\n",
    "    ds[2*i].value = df[\"テキスト\"][i]\n",
    "    ds[2*i+1].value = df[\"URL\"][i]\n",
    "ws.update_cells(ds)"
   ]
  },
  {
   "cell_type": "code",
   "execution_count": 4,
   "id": "444e7760",
   "metadata": {},
   "outputs": [
    {
     "data": {
      "text/plain": [
       "{'spreadsheetId': '17yX6sF98SIEGbTheO5X26fnrKNHw83xHnVjEkb8BIKI',\n",
       " 'updatedRange': 'Sheet1!A1:B3',\n",
       " 'updatedRows': 3,\n",
       " 'updatedColumns': 2,\n",
       " 'updatedCells': 6}"
      ]
     },
     "execution_count": 4,
     "metadata": {},
     "output_type": "execute_result"
    }
   ],
   "source": [
    "import gspread\n",
    "import pandas as pd\n",
    "from oauth2client.service_account import ServiceAccountCredentials\n",
    "from pydrive.auth import GoogleAuth\n",
    "from pydrive.drive import GoogleDrive\n",
    "\n",
    "scope = ['https://spreadsheets.google.com/feeds',\n",
    "         'https://www.googleapis.com/auth/drive']\n",
    "json_keyfile_path = 'test-314711-49ce03b4e35b.json'\n",
    "\n",
    "# サービスアカウントキーを読み込む\n",
    "credentials = ServiceAccountCredentials.from_json_keyfile_name(\n",
    "    json_keyfile_path, scope)\n",
    "\n",
    "# pydrive用にOAuth認証を行う\n",
    "gauth = GoogleAuth()\n",
    "gauth.credentials = credentials\n",
    "drive = GoogleDrive(gauth)\n",
    "\n",
    "folder_id = '17jAyV_RrfXaHZ4_-ptY0Benf-aeGp8Qi'\n",
    "f = drive.CreateFile({\n",
    "    'title': 'sample_spread',\n",
    "    'mimeType': 'application/vnd.google-apps.spreadsheet',\n",
    "    \"parents\": [{\"id\": folder_id}]})\n",
    "f.Upload()\n",
    "\n",
    "# gspread用に認証\n",
    "gc = gspread.authorize(credentials)\n",
    "\n",
    "# スプレッドシートのIDを指定してワークブックを選択\n",
    "workbook = gc.open_by_key(f['id'])\n",
    "worksheet = workbook.sheet1\n",
    "\n",
    "df= pd.DataFrame(\n",
    "    data=[[1,2],[\"インターンの頑張り方が分からん^_^\",\"https://Twitter.com/ppi____17/status/1395022997254070273\"],[\"そろそろインターンとかシュ…活しないとね、まずいよね、わかっとる\",\"https://Twitter.com/i___iiiiiiii/status/1395017434239705088\"]],\n",
    "    columns=[\"テキスト\",\"URL\"]\n",
    "    )\n",
    "\n",
    "cell_list = worksheet.range(\"A1:B{}\".format(len(df)))\n",
    "for i in range(len(df)):\n",
    "    cell_list[2*i].value = df[\"テキスト\"][i]\n",
    "    cell_list[2*i+1].value = df[\"URL\"][i]\n",
    "\n",
    "# スプレッドシートを更新\n",
    "worksheet.update_cells(cell_list)"
   ]
  },
  {
   "cell_type": "code",
   "execution_count": null,
   "id": "a5c2ed2c",
   "metadata": {},
   "outputs": [],
   "source": []
  }
 ],
 "metadata": {
  "kernelspec": {
   "display_name": "Python 3",
   "language": "python",
   "name": "python3"
  },
  "language_info": {
   "codemirror_mode": {
    "name": "ipython",
    "version": 3
   },
   "file_extension": ".py",
   "mimetype": "text/x-python",
   "name": "python",
   "nbconvert_exporter": "python",
   "pygments_lexer": "ipython3",
   "version": "3.9.2"
  }
 },
 "nbformat": 4,
 "nbformat_minor": 5
}
